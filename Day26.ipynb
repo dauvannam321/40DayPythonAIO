{
 "cells": [
  {
   "cell_type": "code",
   "execution_count": 2,
   "metadata": {},
   "outputs": [],
   "source": [
    "# •Hãy thực hiện các task: POSTagging, TextClasssification, SentimentAnalysis,\n",
    "#  SentenceSegmentation, WordSegmentation đoạn văn bản sau:\n",
    "import underthesea\n",
    "\n",
    "text = \"Công cụ SunoAI nhanh chóng nhận được sự chú ý từ người dùng khi có thể tạo bài hát chỉ với vài câu lệnh. Phiên bản mới nhất V3 Alpha mới được giới thiệu cuối tháng 2, có bản miễn phí với 10 bài hát mỗi ngày.\""
   ]
  },
  {
   "cell_type": "code",
   "execution_count": 3,
   "metadata": {},
   "outputs": [
    {
     "name": "stdout",
     "output_type": "stream",
     "text": [
      "POS Tagging: [('Công cụ', 'N'), ('SunoAI', 'Np'), ('nhanh chóng', 'A'), ('nhận', 'V'), ('được', 'R'), ('sự', 'N'), ('chú ý', 'V'), ('từ', 'E'), ('người', 'N'), ('dùng', 'V'), ('khi', 'N'), ('có thể', 'R'), ('tạo', 'V'), ('bài', 'N'), ('hát', 'V'), ('chỉ', 'R'), ('với', 'E'), ('vài', 'L'), ('câu', 'N'), ('lệnh', 'N'), ('.', 'CH'), ('Phiên bản', 'V'), ('mới', 'A'), ('nhất', 'A'), ('V3 Alpha', 'Np'), ('mới', 'R'), ('được', 'V'), ('giới thiệu', 'V'), ('cuối', 'N'), ('tháng', 'N'), ('2', 'M'), (',', 'CH'), ('có', 'V'), ('bản', 'N'), ('miễn phí', 'V'), ('với', 'E'), ('10', 'M'), ('bài', 'N'), ('hát', 'V'), ('mỗi', 'L'), ('ngày', 'N'), ('.', 'CH')]\n"
     ]
    }
   ],
   "source": [
    "print(\"POS Tagging:\", underthesea.pos_tag(text))"
   ]
  },
  {
   "cell_type": "code",
   "execution_count": 4,
   "metadata": {},
   "outputs": [
    {
     "name": "stdout",
     "output_type": "stream",
     "text": [
      "2024-05-06 08:13:40,672 https://github.com/undertheseanlp/playground/releases/download/1.3.x/tc_svm_vntc_20201228.zip not found in cache, downloading to C:\\Users\\pc\\AppData\\Local\\Temp\\tmp27oxol0s\n"
     ]
    },
    {
     "name": "stderr",
     "output_type": "stream",
     "text": [
      "100%|██████████| 75578053/75578053 [00:07<00:00, 10428460.36B/s]"
     ]
    },
    {
     "name": "stdout",
     "output_type": "stream",
     "text": [
      "2024-05-06 08:13:49,574 copying C:\\Users\\pc\\AppData\\Local\\Temp\\tmp27oxol0s to cache at C:\\Users\\pc\\.underthesea\\models\\tc_svm_vntc_20201228.zip\n"
     ]
    },
    {
     "name": "stderr",
     "output_type": "stream",
     "text": [
      "\n"
     ]
    },
    {
     "name": "stdout",
     "output_type": "stream",
     "text": [
      "2024-05-06 08:13:49,661 removing temp file C:\\Users\\pc\\AppData\\Local\\Temp\\tmp27oxol0s\n",
      "Text Classsification: ['vi_tinh']\n"
     ]
    }
   ],
   "source": [
    "print(\"Text Classsification:\", underthesea.classify(text))"
   ]
  },
  {
   "cell_type": "code",
   "execution_count": 5,
   "metadata": {},
   "outputs": [
    {
     "name": "stdout",
     "output_type": "stream",
     "text": [
      "2024-05-06 08:17:09,704 https://github.com/undertheseanlp/playground/releases/download/1.3.x/sa_svm_vlsp2016-sa_20210107.zip not found in cache, downloading to C:\\Users\\pc\\AppData\\Local\\Temp\\tmpaw_jaxwq\n"
     ]
    },
    {
     "name": "stderr",
     "output_type": "stream",
     "text": [
      "100%|██████████| 2234880/2234880 [00:00<00:00, 6186177.39B/s]"
     ]
    },
    {
     "name": "stdout",
     "output_type": "stream",
     "text": [
      "2024-05-06 08:17:11,739 copying C:\\Users\\pc\\AppData\\Local\\Temp\\tmpaw_jaxwq to cache at C:\\Users\\pc\\.underthesea\\models\\sa_svm_vlsp2016-sa_20210107.zip\n",
      "2024-05-06 08:17:11,755 removing temp file C:\\Users\\pc\\AppData\\Local\\Temp\\tmpaw_jaxwq\n"
     ]
    },
    {
     "name": "stderr",
     "output_type": "stream",
     "text": [
      "\n"
     ]
    },
    {
     "name": "stdout",
     "output_type": "stream",
     "text": [
      "Sentiment Analysis: positive\n"
     ]
    }
   ],
   "source": [
    "print(\"Sentiment Analysis:\", underthesea.sentiment(text))"
   ]
  },
  {
   "cell_type": "code",
   "execution_count": 7,
   "metadata": {},
   "outputs": [
    {
     "name": "stdout",
     "output_type": "stream",
     "text": [
      "Sentence Segmentation: ['Công cụ SunoAI nhanh chóng nhận được sự chú ý từ người dùng khi có thể tạo bài hát chỉ với vài câu lệnh.', 'Phiên bản mới nhất V3 Alpha mới được giới thiệu cuối tháng 2, có bản miễn phí với 10 bài hát mỗi ngày.']\n"
     ]
    }
   ],
   "source": [
    "print(\"Sentence Segmentation:\", underthesea.sent_tokenize(text))"
   ]
  },
  {
   "cell_type": "code",
   "execution_count": 8,
   "metadata": {},
   "outputs": [
    {
     "name": "stdout",
     "output_type": "stream",
     "text": [
      "Word Segmentation: ['Công cụ', 'SunoAI', 'nhanh chóng', 'nhận', 'được', 'sự', 'chú ý', 'từ', 'người', 'dùng', 'khi', 'có thể', 'tạo', 'bài', 'hát', 'chỉ', 'với', 'vài', 'câu', 'lệnh', '.', 'Phiên bản', 'mới', 'nhất', 'V3 Alpha', 'mới', 'được', 'giới thiệu', 'cuối', 'tháng', '2', ',', 'có', 'bản', 'miễn phí', 'với', '10', 'bài', 'hát', 'mỗi', 'ngày', '.']\n"
     ]
    }
   ],
   "source": [
    "print(\"Word Segmentation:\", underthesea.word_tokenize(text))"
   ]
  }
 ],
 "metadata": {
  "kernelspec": {
   "display_name": "venv",
   "language": "python",
   "name": "python3"
  },
  "language_info": {
   "codemirror_mode": {
    "name": "ipython",
    "version": 3
   },
   "file_extension": ".py",
   "mimetype": "text/x-python",
   "name": "python",
   "nbconvert_exporter": "python",
   "pygments_lexer": "ipython3",
   "version": "3.11.4"
  }
 },
 "nbformat": 4,
 "nbformat_minor": 2
}
