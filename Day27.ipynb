{
 "cells": [
  {
   "cell_type": "code",
   "execution_count": 2,
   "metadata": {},
   "outputs": [],
   "source": [
    "text = \"Công cụ SunoAI nhanh chóng nhận được sự chú ý từ người dùng khi có thể tạo bài hát chỉ với vài câu lệnh. Phiên bản mới nhất V3 Alpha mới được giới thiệu cuối tháng 2, có bản miễn phí với 10 bài hát mỗi ngày.\""
   ]
  },
  {
   "cell_type": "code",
   "execution_count": 21,
   "metadata": {},
   "outputs": [
    {
     "name": "stdout",
     "output_type": "stream",
     "text": [
      "The SunoAI tool quickly gets users' attention when it is possible to create a song with just a few commands. The latest version of V3 Alpha was just introduced at the end of February, there is a free version with 10 songs per day.\n",
      "SunoAIツールは、いくつかのコマンドで曲を作成できる場合、ユーザーの注意を素早く引きます。V 3 Alphaの最新バージョンは2月末に発売されたばかりで、1日10曲の無料バージョンがあります。\n"
     ]
    }
   ],
   "source": [
    "# Dịch câu sau với 2 ngôn ngữ: Anh, Nhật sử dụng cả 2 thư viện\n",
    "from translate import Translator\n",
    "\n",
    "print(Translator(from_lang=\"vi\", to_lang=\"en\").translate(text))\n",
    "print(Translator(from_lang=\"vi\", to_lang=\"ja\").translate(text))"
   ]
  },
  {
   "cell_type": "code",
   "execution_count": 22,
   "metadata": {},
   "outputs": [
    {
     "name": "stdout",
     "output_type": "stream",
     "text": [
      "Translated(src=vi, dest=en, text=Sunoai tools quickly get attention from users when they can create songs with just a few statements.The latest version of V3 Alpha was introduced at the end of February, with a free version with 10 songs a day., pronunciation=None, extra_data=\"{'confiden...\")\n",
      "Translated(src=vi, dest=ja, text=Sunoaiツールは、ユーザーがいくつかのステートメントで曲を作成できるときにすぐに注目を集めます。V3 Alphaの最新バージョンは2月末に紹介され、1日10曲の無料バージョンがありました。, pronunciation=Sunoai tsūru wa, yūzā ga ikutsu ka no sutētomento de kyoku o sakusei dekiru toki ni sugu ni chūmoku o atsumemasu. V 3 Alpha no saishin bājon wa 2 getsumatsu ni shōkai sa re, 1-nichi 10-kyoku no muryō bājon ga arimashita., extra_data=\"{'confiden...\")\n"
     ]
    }
   ],
   "source": [
    "from googletrans import Translator\n",
    "translate = Translator()\n",
    "\n",
    "print(translate.translate(text, dest='en'))\n",
    "print(translate.translate(text, dest='ja'))"
   ]
  }
 ],
 "metadata": {
  "kernelspec": {
   "display_name": "venv",
   "language": "python",
   "name": "python3"
  },
  "language_info": {
   "codemirror_mode": {
    "name": "ipython",
    "version": 3
   },
   "file_extension": ".py",
   "mimetype": "text/x-python",
   "name": "python",
   "nbconvert_exporter": "python",
   "pygments_lexer": "ipython3",
   "version": "3.11.4"
  }
 },
 "nbformat": 4,
 "nbformat_minor": 2
}
