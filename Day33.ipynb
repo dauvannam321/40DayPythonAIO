{
 "cells": [
  {
   "cell_type": "code",
   "execution_count": 7,
   "metadata": {},
   "outputs": [],
   "source": [
    "import pandas as pd"
   ]
  },
  {
   "cell_type": "code",
   "execution_count": 1,
   "metadata": {},
   "outputs": [],
   "source": [
    "import sqlite3\n",
    "# Tạo kết nối tới CSDL có tên là database.sqlite\n",
    "# Nếu database.sqlite chưa tồn tại trong hệ thống thì nó sẽ\n",
    "# tự tạo mới\n",
    "connection = sqlite3.connect('database.sqlite')\n",
    "cursor = connection.cursor()"
   ]
  },
  {
   "cell_type": "code",
   "execution_count": 3,
   "metadata": {},
   "outputs": [],
   "source": [
    "# Tạo bảng PRODUCT \n",
    "# Cột  | Kiểu dữ liệu | Chú thích\n",
    "# ID   | INTERGER     | Khóa chính\n",
    "# NAME | TEXT         | Not null\n",
    "# PRICE| INTERGER     | Not null"
   ]
  },
  {
   "cell_type": "code",
   "execution_count": 4,
   "metadata": {},
   "outputs": [
    {
     "data": {
      "text/plain": [
       "<sqlite3.Cursor at 0x2790e20ea40>"
      ]
     },
     "execution_count": 4,
     "metadata": {},
     "output_type": "execute_result"
    }
   ],
   "source": [
    "cursor.execute(\"\"\"\n",
    "CREATE TABLE PRODUCT (\n",
    "    ID INTERGER PRIMARY KEY,\n",
    "    NAME TEXT NOT NULL,\n",
    "    PRICE INTERGER NOT NULL\n",
    ");\n",
    "\"\"\")"
   ]
  },
  {
   "cell_type": "code",
   "execution_count": 5,
   "metadata": {},
   "outputs": [],
   "source": [
    "# Thêm vào các dòng\n",
    "# ID |     NAME        | PRICE\n",
    "# 1  | iPhone 15       | 18000000\n",
    "# 2  | Galaxy Z-Fold 5 | 30000000"
   ]
  },
  {
   "cell_type": "code",
   "execution_count": 6,
   "metadata": {},
   "outputs": [
    {
     "data": {
      "text/plain": [
       "<sqlite3.Cursor at 0x2790e20ea40>"
      ]
     },
     "execution_count": 6,
     "metadata": {},
     "output_type": "execute_result"
    }
   ],
   "source": [
    "cursor.execute(\"\"\"\n",
    "INSERT INTO PRODUCT(ID, NAME, PRICE)\n",
    "VALUES\n",
    "    ('1', 'iPhone 15', '18000000'),\n",
    "    ('2', 'Galaxy Z-Fold 5', '30000000');\n",
    "\"\"\")"
   ]
  },
  {
   "cell_type": "code",
   "execution_count": 8,
   "metadata": {},
   "outputs": [
    {
     "name": "stdout",
     "output_type": "stream",
     "text": [
      "   ID             NAME     PRICE\n",
      "0   1        iPhone 15  18000000\n",
      "1   2  Galaxy Z-Fold 5  30000000\n"
     ]
    }
   ],
   "source": [
    "data = pd.read_sql_query(\"SELECT * FROM PRODUCT\", connection)\n",
    "print(data)"
   ]
  },
  {
   "cell_type": "code",
   "execution_count": 10,
   "metadata": {},
   "outputs": [],
   "source": [
    "#  Hãy cập nhật giá mới cho Galaxy Z-Fold 5 thành 50.000.000 và kiểm tra\n",
    "#  kết quả:\n",
    "cursor.execute(\"\"\"\n",
    "UPDATE PRODUCT\n",
    "SET PRICE = 50000000\n",
    "WHERE NAME = 'Galaxy Z-Fold 5';\n",
    "\"\"\")\n",
    "connection.commit()"
   ]
  },
  {
   "cell_type": "code",
   "execution_count": 12,
   "metadata": {},
   "outputs": [
    {
     "name": "stdout",
     "output_type": "stream",
     "text": [
      "   ID             NAME     PRICE\n",
      "0   1        iPhone 15  18000000\n",
      "1   2  Galaxy Z-Fold 5  50000000\n"
     ]
    }
   ],
   "source": [
    "data = pd.read_sql_query(\"SELECT * FROM PRODUCT\", connection)\n",
    "print(data)"
   ]
  },
  {
   "cell_type": "code",
   "execution_count": 14,
   "metadata": {},
   "outputs": [],
   "source": [
    "# Hãy xóa iPhone 15 ra khỏi CSDL và kiểm tra kết quả:\n",
    "cursor.execute(\"\"\"\n",
    "DELETE FROM PRODUCT\n",
    "WHERE NAME = 'iPhone 15';\n",
    "\"\"\")\n",
    "connection.commit()"
   ]
  },
  {
   "cell_type": "code",
   "execution_count": 15,
   "metadata": {},
   "outputs": [
    {
     "name": "stdout",
     "output_type": "stream",
     "text": [
      "   ID             NAME     PRICE\n",
      "0   2  Galaxy Z-Fold 5  50000000\n"
     ]
    }
   ],
   "source": [
    "data = pd.read_sql_query(\"SELECT * FROM PRODUCT\", connection)\n",
    "print(data)"
   ]
  }
 ],
 "metadata": {
  "kernelspec": {
   "display_name": "venv",
   "language": "python",
   "name": "python3"
  },
  "language_info": {
   "codemirror_mode": {
    "name": "ipython",
    "version": 3
   },
   "file_extension": ".py",
   "mimetype": "text/x-python",
   "name": "python",
   "nbconvert_exporter": "python",
   "pygments_lexer": "ipython3",
   "version": "3.11.4"
  }
 },
 "nbformat": 4,
 "nbformat_minor": 2
}
