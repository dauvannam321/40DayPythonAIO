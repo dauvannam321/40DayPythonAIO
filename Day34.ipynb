{
 "cells": [
  {
   "cell_type": "code",
   "execution_count": 1,
   "metadata": {},
   "outputs": [],
   "source": [
    "import pandas as pd\n",
    "import sqlite3\n",
    "# Tạo kết nối tới CSDL có tên là database.sqlite\n",
    "# Nếu database.sqlite chưa tồn tại trong hệ thống thì nó sẽ\n",
    "# tự tạo mới\n",
    "connection = sqlite3.connect('database.sqlite')\n",
    "cursor = connection.cursor()"
   ]
  },
  {
   "cell_type": "code",
   "execution_count": 2,
   "metadata": {},
   "outputs": [],
   "source": [
    "# Tạo bảng STOCK \n",
    "# Cột       |    Kiểu dữ liệu  |  Chú thích\n",
    "# ID        |     INTERGER     |  Khóa chính\n",
    "# NAME      |     TEXT         |  Not null\n",
    "# BUY       |     INTERGER     |  Not null\n",
    "# INVESTOR  |     TEXT         |  Not null"
   ]
  },
  {
   "cell_type": "code",
   "execution_count": 4,
   "metadata": {},
   "outputs": [
    {
     "data": {
      "text/plain": [
       "<sqlite3.Cursor at 0x1b4a5873ec0>"
      ]
     },
     "execution_count": 4,
     "metadata": {},
     "output_type": "execute_result"
    }
   ],
   "source": [
    "cursor.execute(\"\"\"\n",
    "CREATE TABLE STOCK (\n",
    "    ID INTERGER PRIMARY KEY,\n",
    "    NAME TEXT NOT NULL,\n",
    "    BUY INTERGER NOT NULL,\n",
    "    INVESTOR TEXT NOT NULL\n",
    ");\n",
    "\"\"\")"
   ]
  },
  {
   "cell_type": "code",
   "execution_count": 7,
   "metadata": {},
   "outputs": [],
   "source": [
    "# Thêm vào các dòng\n",
    "# ID |      NAME       |       BUY       |    INVESTOR\n",
    "# 1  |      ACB        |      29.45      |     Nguyen\n",
    "# 2  |      VIC        |      44.55      |     Nguyen\n",
    "# 3  |      GMD        |      74.30      |     Nguyen\n",
    "# 4  |      ACB        |      28.45      |     Vinh\n",
    "# 5  |      VIC        |      40.55      |     Vinh\n",
    "# 6  |      GMD        |      60.30      |     Vinh"
   ]
  },
  {
   "cell_type": "code",
   "execution_count": 8,
   "metadata": {},
   "outputs": [
    {
     "data": {
      "text/plain": [
       "<sqlite3.Cursor at 0x1b4a5873ec0>"
      ]
     },
     "execution_count": 8,
     "metadata": {},
     "output_type": "execute_result"
    }
   ],
   "source": [
    "cursor.execute(\"\"\"\n",
    "INSERT INTO STOCK(ID, NAME, BUY, INVESTOR)\n",
    "VALUES\n",
    "    ('1', 'ACB', '29.45', 'Nguyen'),\n",
    "    ('2', 'VIC', '44.55', 'Nguyen'),\n",
    "    ('3', 'GMD', '74.30', 'Nguyen'),\n",
    "    ('4', 'ACB', '28.45', 'Vinh'),\n",
    "    ('5', 'VIC', '40.55', 'Vinh'),\n",
    "    ('6', 'GMD', '60.30', 'Vinh');\n",
    "\"\"\")"
   ]
  },
  {
   "cell_type": "code",
   "execution_count": 9,
   "metadata": {},
   "outputs": [
    {
     "name": "stdout",
     "output_type": "stream",
     "text": [
      "   TOTAL\n",
      "0  277.6\n"
     ]
    }
   ],
   "source": [
    "# Hãy viết lệnh SQL để truy vấn và in ra kết quả thống kê \n",
    "# tổng giá bán (BUY) của bảng STOCK:\n",
    "data = pd.read_sql_query(\"SELECT SUM(BUY) AS TOTAL FROM STOCK\", connection)\n",
    "print(data)"
   ]
  },
  {
   "cell_type": "code",
   "execution_count": 11,
   "metadata": {},
   "outputs": [
    {
     "name": "stdout",
     "output_type": "stream",
     "text": [
      "  INVESTOR NAME  MAX_PRICE\n",
      "0   Nguyen  GMD       74.3\n",
      "1     Vinh  GMD       60.3\n"
     ]
    }
   ],
   "source": [
    "# Hãy viết lệnh SQL để thống kê mã cổ phiếu có giá mua (BUY) lớn nhất\n",
    "# theo nhà đầu tư (Investor):\n",
    "data = pd.read_sql_query(\"SELECT INVESTOR, NAME, MAX(BUY) AS MAX_PRICE \\\n",
    "                         FROM STOCK \\\n",
    "                         GROUP BY INVESTOR\", connection)\n",
    "print(data)"
   ]
  }
 ],
 "metadata": {
  "kernelspec": {
   "display_name": "venv",
   "language": "python",
   "name": "python3"
  },
  "language_info": {
   "codemirror_mode": {
    "name": "ipython",
    "version": 3
   },
   "file_extension": ".py",
   "mimetype": "text/x-python",
   "name": "python",
   "nbconvert_exporter": "python",
   "pygments_lexer": "ipython3",
   "version": "3.11.4"
  }
 },
 "nbformat": 4,
 "nbformat_minor": 2
}
